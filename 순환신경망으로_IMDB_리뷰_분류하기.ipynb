{
  "nbformat": 4,
  "nbformat_minor": 0,
  "metadata": {
    "colab": {
      "provenance": [],
      "authorship_tag": "ABX9TyPGlyoPJ0IysJ80CIB96AC/",
      "include_colab_link": true
    },
    "kernelspec": {
      "name": "python3",
      "display_name": "Python 3"
    },
    "language_info": {
      "name": "python"
    }
  },
  "cells": [
    {
      "cell_type": "markdown",
      "metadata": {
        "id": "view-in-github",
        "colab_type": "text"
      },
      "source": [
        "<a href=\"https://colab.research.google.com/github/sun-in-universe/blue_dot/blob/main/%EC%88%9C%ED%99%98%EC%8B%A0%EA%B2%BD%EB%A7%9D%EC%9C%BC%EB%A1%9C_IMDB_%EB%A6%AC%EB%B7%B0_%EB%B6%84%EB%A5%98%ED%95%98%EA%B8%B0.ipynb\" target=\"_parent\"><img src=\"https://colab.research.google.com/assets/colab-badge.svg\" alt=\"Open In Colab\"/></a>"
      ]
    },
    {
      "cell_type": "code",
      "execution_count": 2,
      "metadata": {
        "id": "8PSi6faTQbcV",
        "colab": {
          "base_uri": "https://localhost:8080/"
        },
        "outputId": "9d444511-b02b-4c0a-d225-a1f3d18995ee"
      },
      "outputs": [
        {
          "output_type": "stream",
          "name": "stdout",
          "text": [
            "Downloading data from https://storage.googleapis.com/tensorflow/tf-keras-datasets/imdb.npz\n",
            "17464789/17464789 [==============================] - 1s 0us/step\n"
          ]
        }
      ],
      "source": [
        "from tensorflow.keras.datasets import imdb\n",
        "(train_input, train_target), (test_input, test_target) = imdb.load_data(num_words=500) #가장 자주 등장하는 단어 500개"
      ]
    },
    {
      "cell_type": "code",
      "source": [
        "print(train_input.shape, test_input.shape)"
      ],
      "metadata": {
        "colab": {
          "base_uri": "https://localhost:8080/"
        },
        "id": "ZV1hNPZjQ993",
        "outputId": "f25d90be-d808-4963-ff02-c527a8ba695a"
      },
      "execution_count": 3,
      "outputs": [
        {
          "output_type": "stream",
          "name": "stdout",
          "text": [
            "(25000,) (25000,)\n"
          ]
        }
      ]
    },
    {
      "cell_type": "code",
      "source": [
        "print(len(train_input[0]))"
      ],
      "metadata": {
        "colab": {
          "base_uri": "https://localhost:8080/"
        },
        "id": "vGT-LmbTRYcW",
        "outputId": "d69bde3f-15df-446b-9500-0abdf2dbd61d"
      },
      "execution_count": 4,
      "outputs": [
        {
          "output_type": "stream",
          "name": "stdout",
          "text": [
            "218\n"
          ]
        }
      ]
    },
    {
      "cell_type": "code",
      "source": [
        "print(train_input[1])"
      ],
      "metadata": {
        "colab": {
          "base_uri": "https://localhost:8080/"
        },
        "id": "OwJp0xi6Rcm9",
        "outputId": "d7361ba4-b0d3-4d2a-9cee-c3b27044665f"
      },
      "execution_count": 5,
      "outputs": [
        {
          "output_type": "stream",
          "name": "stdout",
          "text": [
            "[1, 194, 2, 194, 2, 78, 228, 5, 6, 2, 2, 2, 134, 26, 4, 2, 8, 118, 2, 14, 394, 20, 13, 119, 2, 189, 102, 5, 207, 110, 2, 21, 14, 69, 188, 8, 30, 23, 7, 4, 249, 126, 93, 4, 114, 9, 2, 2, 5, 2, 4, 116, 9, 35, 2, 4, 229, 9, 340, 2, 4, 118, 9, 4, 130, 2, 19, 4, 2, 5, 89, 29, 2, 46, 37, 4, 455, 9, 45, 43, 38, 2, 2, 398, 4, 2, 26, 2, 5, 163, 11, 2, 2, 4, 2, 9, 194, 2, 7, 2, 2, 349, 2, 148, 2, 2, 2, 15, 123, 125, 68, 2, 2, 15, 349, 165, 2, 98, 5, 4, 228, 9, 43, 2, 2, 15, 299, 120, 5, 120, 174, 11, 220, 175, 136, 50, 9, 2, 228, 2, 5, 2, 2, 245, 2, 5, 4, 2, 131, 152, 491, 18, 2, 32, 2, 2, 14, 9, 6, 371, 78, 22, 2, 64, 2, 9, 8, 168, 145, 23, 4, 2, 15, 16, 4, 2, 5, 28, 6, 52, 154, 462, 33, 89, 78, 285, 16, 145, 95]\n"
          ]
        }
      ]
    },
    {
      "cell_type": "code",
      "source": [
        "print(train_target[:20])"
      ],
      "metadata": {
        "colab": {
          "base_uri": "https://localhost:8080/"
        },
        "id": "p7wZiX2tR132",
        "outputId": "d8a234c8-48b8-4a78-d633-c2be7c783844"
      },
      "execution_count": 6,
      "outputs": [
        {
          "output_type": "stream",
          "name": "stdout",
          "text": [
            "[1 0 0 1 0 0 1 0 1 0 1 0 0 0 0 0 1 1 0 1]\n"
          ]
        }
      ]
    },
    {
      "cell_type": "code",
      "source": [
        "#검증세트 떼어놓기\n",
        "\n",
        "from sklearn.model_selection import train_test_split\n",
        "train_input, val_input, train_target, val_target = train_test_split(\n",
        "    train_input, train_target, test_size=0.2, random_state=42\n",
        ")"
      ],
      "metadata": {
        "id": "_RHm4bNQSU7P"
      },
      "execution_count": 7,
      "outputs": []
    },
    {
      "cell_type": "code",
      "source": [
        "# 각 리뷰의 길이를 계산해 넘파이 배열에 담기 -> 평균적인 리뷰의 길이, 가장 짧은 길이의 리뷰의 길이, 가장 긴 리뷰의 길이 확인\n",
        "\n",
        "import numpy as np\n",
        "lengths = np.array([len(x) for x in train_input])"
      ],
      "metadata": {
        "id": "HDBgVGgXSuW3"
      },
      "execution_count": 8,
      "outputs": []
    },
    {
      "cell_type": "code",
      "source": [
        "print(np.mean(lengths), np.median(lengths))"
      ],
      "metadata": {
        "colab": {
          "base_uri": "https://localhost:8080/"
        },
        "id": "8h_qNkMoTHXZ",
        "outputId": "b46cb31b-7927-47aa-b5d9-982509c59202"
      },
      "execution_count": 9,
      "outputs": [
        {
          "output_type": "stream",
          "name": "stdout",
          "text": [
            "239.00925 178.0\n"
          ]
        }
      ]
    },
    {
      "cell_type": "code",
      "source": [
        "# lengths의 분포를 히스토그램에 표현해보기\n",
        "\n",
        "import matplotlib.pyplot as plt\n",
        "plt.hist(lengths)\n",
        "plt.xlabel('lenght')\n",
        "plt.ylabel('frequency')\n",
        "plt.show()"
      ],
      "metadata": {
        "colab": {
          "base_uri": "https://localhost:8080/",
          "height": 449
        },
        "id": "YMJ5Z1YQTMLi",
        "outputId": "a995fdbc-cd17-4f6e-a90c-1782b57c52c0"
      },
      "execution_count": 10,
      "outputs": [
        {
          "output_type": "display_data",
          "data": {
            "text/plain": [
              "<Figure size 640x480 with 1 Axes>"
            ],
            "image/png": "[encoded data removed]"
          },
          "metadata": {}
        }
      ]
    },
    {
      "cell_type": "code",
      "source": [
        "from tensorflow.keras.preprocessing.sequence import pad_sequences\n",
        "train_seq = pad_sequences(train_input, maxlen=100)"
      ],
      "metadata": {
        "id": "JZuHEF27T0Xv"
      },
      "execution_count": 11,
      "outputs": []
    },
    {
      "cell_type": "code",
      "source": [
        "# 파이썬 리스트 배열 -> (20000, 100)크기의 2차원 배열이 되었다.\n",
        "print(train_seq.shape)"
      ],
      "metadata": {
        "colab": {
          "base_uri": "https://localhost:8080/"
        },
        "id": "XQt6MrWIWflv",
        "outputId": "b106560e-6d69-4d61-9dd9-5459cbf0ff5b"
      },
      "execution_count": 12,
      "outputs": [
        {
          "output_type": "stream",
          "name": "stdout",
          "text": [
            "(20000, 100)\n"
          ]
        }
      ]
    },
    {
      "cell_type": "code",
      "source": [
        "#기본적으로 앞부분을 패딩 0, 뒷부분이 중요한 정보라고 생각함. 뒷부분을 잘라내고 싶다면, truncating 매개변수 값을 pre가 아닌 post로 선정하면 됌\n",
        "val_seq = pad_sequences(val_input, maxlen=100)"
      ],
      "metadata": {
        "id": "L5lU6ANsWy0S"
      },
      "execution_count": 13,
      "outputs": []
    },
    {
      "cell_type": "code",
      "source": [
        "#순환 신경망 만들기\n",
        "from tensorflow import keras\n",
        "model = keras.Sequential()\n",
        "model.add(keras.layers.SimpleRNN(8, input_shape=(100, 500)))\n",
        "model.add(keras.layers.Dense(1, activation='sigmoid')) #활성화함수로 시그모이드 함수를 사용"
      ],
      "metadata": {
        "id": "zoGwkd4pX4o_"
      },
      "execution_count": 14,
      "outputs": []
    },
    {
      "cell_type": "code",
      "source": [
        "#케라스에서 제공하는 원핫 인코딩 유틸리티ㅣ to_categorical\n",
        "\n",
        "train_oh = keras.utils.to_categorical(train_seq)"
      ],
      "metadata": {
        "id": "NLpBHIAGY4N7"
      },
      "execution_count": 15,
      "outputs": []
    },
    {
      "cell_type": "code",
      "source": [
        "print(train_oh.shape)"
      ],
      "metadata": {
        "id": "eh8eqW5WZng-",
        "colab": {
          "base_uri": "https://localhost:8080/"
        },
        "outputId": "0dcd978c-04ee-4fba-f5c2-e921049fb093"
      },
      "execution_count": 16,
      "outputs": [
        {
          "output_type": "stream",
          "name": "stdout",
          "text": [
            "(20000, 100, 500)\n"
          ]
        }
      ]
    },
    {
      "cell_type": "code",
      "source": [
        "print(train_oh[0][0][:12])"
      ],
      "metadata": {
        "id": "Te2kCYZjZw8_",
        "colab": {
          "base_uri": "https://localhost:8080/"
        },
        "outputId": "2fe0b9a2-bbbf-4333-f35c-7c4ef9e76446"
      },
      "execution_count": 17,
      "outputs": [
        {
          "output_type": "stream",
          "name": "stdout",
          "text": [
            "[0. 0. 0. 0. 0. 0. 0. 0. 0. 0. 1. 0.]\n"
          ]
        }
      ]
    },
    {
      "cell_type": "code",
      "source": [
        "val_oh = keras.utils.to_categorical(val_seq)"
      ],
      "metadata": {
        "id": "R4IWDQ4Waj8u"
      },
      "execution_count": 18,
      "outputs": []
    },
    {
      "cell_type": "code",
      "source": [
        "model.summary()"
      ],
      "metadata": {
        "colab": {
          "base_uri": "https://localhost:8080/"
        },
        "id": "4wSecYMAWbAj",
        "outputId": "a6c5af2d-55e5-45ff-8cc3-9e730d0c705a"
      },
      "execution_count": 19,
      "outputs": [
        {
          "output_type": "stream",
          "name": "stdout",
          "text": [
            "Model: \"sequential\"\n",
            "_________________________________________________________________\n",
            " Layer (type)                Output Shape              Param #   \n",
            "=================================================================\n",
            " simple_rnn (SimpleRNN)      (None, 8)                 4072      \n",
            "                                                                 \n",
            " dense (Dense)               (None, 1)                 9         \n",
            "                                                                 \n",
            "=================================================================\n",
            "Total params: 4,081\n",
            "Trainable params: 4,081\n",
            "Non-trainable params: 0\n",
            "_________________________________________________________________\n"
          ]
        }
      ]
    },
    {
      "cell_type": "markdown",
      "source": [
        "RMSprop은 경사 하강법의 변형 중 하나로, 신경망 학습에서 널리 사용되는 최적화 알고리즘 중 하나입니다. RMSprop은 \"Root Mean Square Propagation\"의 줄임말로, 기울기의 제곱의 이동 평균의 제곱근을 사용하여 학습 속도를 조절하는 방식으로 동작합니다.\n",
        "\n",
        "Early Stopping은 모델의 과적합을 방지하고 효율적인 훈련을 위해 사용되는 유용한 방법 중 하나입니다. patience 값은 일반적으로 너무 작지 않게 설정하여 너무 빠른 중지를 방지하며, restore_best_weights를 True로 설정하면 최상의 성능을 달성했을 때의 모델을 유지할 수 있습니다.\n",
        "\n",
        "'best-simplernn-model.h5': 이 부분은 모델 가중치를 저장할 파일의 이름입니다. 즉, 최상의 모델 가중치가 저장될 파일의 이름을 지정하는 부분입니다. \".h5\" 확장자는 Keras에서 모델 아키텍처와 가중치를 저장하기 위해 사용되는 표준 파일 형식입니다.\n",
        "\n",
        "save_best_only (인자: 불린) - 이 파라미터는 최상의 모델 가중치만 저장할지 여부를 결정합니다. 기본값은 False입니다. 만약 True로 설정하면, 콜백은 검증 손실을 모니터링하고 검증 손실이 개선될 때만 모델 가중치를 저장합니다. 이렇게 하면 학습 과정에서 검증 성능이 가장 좋을 때의 모델을 저장할 수 있습니다"
      ],
      "metadata": {
        "id": "qMixAI1madhD"
      }
    },
    {
      "cell_type": "code",
      "source": [
        "#RMSprop 객체 만들기\n",
        "\n",
        "import keras\n",
        "import keras.utils\n",
        "rmsprop = keras.optimizers.RMSprop(learning_rate = 1e-4)\n",
        "model.compile(optimizer=rmsprop, loss='binary_crossentropy', metrics=['accuracy'])\n",
        "checkpoint_cb = keras.callbacks.ModelCheckpoint('best-simplernn-model.h5', save_best_only=True)\n",
        "early_stopping_cb = keras.callbacks.EarlyStopping(patience=3, restore_best_weights=True)\n",
        "history = model.fit(train_oh, train_target, epochs=100, batch_size=64, validation_data=(val_oh, val_target), callbacks=[checkpoint_cb, early_stopping_cb])"
      ],
      "metadata": {
        "colab": {
          "base_uri": "https://localhost:8080/"
        },
        "id": "58E8ktomWiyq",
        "outputId": "450eb06f-556b-4274-91bc-2e1212019157"
      },
      "execution_count": null,
      "outputs": [
        {
          "output_type": "stream",
          "name": "stdout",
          "text": [
            "Epoch 1/100\n",
            "313/313 [==============================] - 20s 58ms/step - loss: 0.7019 - accuracy: 0.4924 - val_loss: 0.6970 - val_accuracy: 0.5112\n",
            "Epoch 2/100\n",
            "313/313 [==============================] - 16s 50ms/step - loss: 0.6953 - accuracy: 0.5094 - val_loss: 0.6937 - val_accuracy: 0.5222\n",
            "Epoch 3/100\n",
            "313/313 [==============================] - 16s 50ms/step - loss: 0.6907 - accuracy: 0.5288 - val_loss: 0.6889 - val_accuracy: 0.5390\n",
            "Epoch 4/100\n",
            "313/313 [==============================] - 14s 45ms/step - loss: 0.6756 - accuracy: 0.5730 - val_loss: 0.6635 - val_accuracy: 0.6020\n",
            "Epoch 5/100\n",
            "313/313 [==============================] - 15s 49ms/step - loss: 0.6452 - accuracy: 0.6356 - val_loss: 0.6346 - val_accuracy: 0.6464\n",
            "Epoch 6/100\n",
            "313/313 [==============================] - 15s 48ms/step - loss: 0.6177 - accuracy: 0.6758 - val_loss: 0.6092 - val_accuracy: 0.6852\n",
            "Epoch 7/100\n",
            "313/313 [==============================] - 15s 47ms/step - loss: 0.5892 - accuracy: 0.7097 - val_loss: 0.5738 - val_accuracy: 0.7242\n",
            "Epoch 8/100\n",
            "313/313 [==============================] - 14s 45ms/step - loss: 0.5583 - accuracy: 0.7390 - val_loss: 0.5557 - val_accuracy: 0.7424\n",
            "Epoch 9/100\n",
            "313/313 [==============================] - 14s 45ms/step - loss: 0.5403 - accuracy: 0.7524 - val_loss: 0.5411 - val_accuracy: 0.7496\n",
            "Epoch 10/100\n",
            "313/313 [==============================] - 14s 45ms/step - loss: 0.5244 - accuracy: 0.7652 - val_loss: 0.5300 - val_accuracy: 0.7582\n",
            "Epoch 11/100\n",
            "313/313 [==============================] - 14s 45ms/step - loss: 0.5114 - accuracy: 0.7697 - val_loss: 0.5169 - val_accuracy: 0.7622\n",
            "Epoch 12/100\n",
            "313/313 [==============================] - 14s 45ms/step - loss: 0.4998 - accuracy: 0.7772 - val_loss: 0.5077 - val_accuracy: 0.7668\n",
            "Epoch 13/100\n",
            "313/313 [==============================] - 14s 45ms/step - loss: 0.4895 - accuracy: 0.7821 - val_loss: 0.4997 - val_accuracy: 0.7722\n",
            "Epoch 14/100\n",
            "313/313 [==============================] - 16s 50ms/step - loss: 0.4806 - accuracy: 0.7868 - val_loss: 0.4920 - val_accuracy: 0.7720\n",
            "Epoch 15/100\n",
            "313/313 [==============================] - 14s 44ms/step - loss: 0.4724 - accuracy: 0.7908 - val_loss: 0.4863 - val_accuracy: 0.7744\n",
            "Epoch 16/100\n",
            "313/313 [==============================] - 14s 46ms/step - loss: 0.4648 - accuracy: 0.7956 - val_loss: 0.4837 - val_accuracy: 0.7782\n",
            "Epoch 17/100\n",
            "313/313 [==============================] - 15s 47ms/step - loss: 0.4588 - accuracy: 0.7971 - val_loss: 0.4750 - val_accuracy: 0.7828\n",
            "Epoch 18/100\n",
            "313/313 [==============================] - 16s 52ms/step - loss: 0.4528 - accuracy: 0.7995 - val_loss: 0.4757 - val_accuracy: 0.7794\n",
            "Epoch 19/100\n",
            "313/313 [==============================] - 15s 49ms/step - loss: 0.4475 - accuracy: 0.8052 - val_loss: 0.4699 - val_accuracy: 0.7806\n",
            "Epoch 20/100\n",
            " 81/313 [======>.......................] - ETA: 8s - loss: 0.4424 - accuracy: 0.8029"
          ]
        }
      ]
    },
    {
      "cell_type": "code",
      "source": [
        "plt.plot(history.history['loss'])\n",
        "plt.plot(history.history['val_loss'])\n",
        "plt.xlabel('epoch')\n",
        "plt.ylabel('loss')\n",
        "plt.legend(['train', 'val'])\n",
        "plt.show()"
      ],
      "metadata": {
        "id": "9oGmkW0qcQR8"
      },
      "execution_count": null,
      "outputs": []
    },
    {
      "cell_type": "code",
      "source": [
        "model2 = keras.Sequential()\n",
        "model2.add(keras.layers.Embedding(500, 16, input_length=100))\n",
        "model2.add(keras.layers.SimpleRNN(8))\n",
        "model2.add(keras.layers.Dense(1, activation='sigmoid'))"
      ],
      "metadata": {
        "id": "n5XVVGColiqD"
      },
      "execution_count": null,
      "outputs": []
    },
    {
      "cell_type": "code",
      "source": [
        "model2.summary()"
      ],
      "metadata": {
        "id": "mDSBFiTaou-S"
      },
      "execution_count": null,
      "outputs": []
    },
    {
      "cell_type": "code",
      "source": [
        "rmsprop = keras.optimizers.RMSprop(learning_rate = 1e-4)\n",
        "model.compile(optimizer=rmsprop, loss='binary_crossentropy', metrics=['accuracy'])\n",
        "checkpoint_cb = keras.callbacks.ModelCheckpoint('best-embedding-model.h5', save_best_only=True)\n",
        "early_stopping_cb = keras.callbacks.EarlyStopping(patience=3, restore_best_weights=True)\n",
        "history = model.fit(train_seq, train_target, epochs=100, batch_size=64, validation_data=(val_oh, val_target), callbacks=[checkpoint_cb, early_stopping_cb])"
      ],
      "metadata": {
        "id": "29LCzuNcpKKG"
      },
      "execution_count": null,
      "outputs": []
    },
    {
      "cell_type": "code",
      "source": [
        "plt.plot(history.history['loss'])\n",
        "plt.plot(history.history['val_loss'])\n",
        "plt.xlabel('epoch')\n",
        "plt.ylabel('loss')\n",
        "plt.legend(['train', 'val'])\n",
        "plt.show()"
      ],
      "metadata": {
        "id": "ixeePjfkqckB"
      },
      "execution_count": null,
      "outputs": []
    },
    {
      "cell_type": "code",
      "source": [],
      "metadata": {
        "id": "qUOtZoaRqebg"
      },
      "execution_count": null,
      "outputs": []
    }
  ]
}