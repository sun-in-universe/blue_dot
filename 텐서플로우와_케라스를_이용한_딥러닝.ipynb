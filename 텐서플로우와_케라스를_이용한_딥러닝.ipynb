{
  "nbformat": 4,
  "nbformat_minor": 0,
  "metadata": {
    "colab": {
      "provenance": [],
      "authorship_tag": "ABX9TyMF3RwbEJ+19RRtXE0RUsd9",
      "include_colab_link": true
    },
    "kernelspec": {
      "name": "python3",
      "display_name": "Python 3"
    },
    "language_info": {
      "name": "python"
    }
  },
  "cells": [
    {
      "cell_type": "markdown",
      "metadata": {
        "id": "view-in-github",
        "colab_type": "text"
      },
      "source": [
        "<a href=\"https://colab.research.google.com/github/sun-in-universe/blue_dot/blob/main/%ED%85%90%EC%84%9C%ED%94%8C%EB%A1%9C%EC%9A%B0%EC%99%80_%EC%BC%80%EB%9D%BC%EC%8A%A4%EB%A5%BC_%EC%9D%B4%EC%9A%A9%ED%95%9C_%EB%94%A5%EB%9F%AC%EB%8B%9D.ipynb\" target=\"_parent\"><img src=\"https://colab.research.google.com/assets/colab-badge.svg\" alt=\"Open In Colab\"/></a>"
      ]
    },
    {
      "cell_type": "code",
      "execution_count": 108,
      "metadata": {
        "colab": {
          "base_uri": "https://localhost:8080/",
          "height": 72
        },
        "id": "P5Z59lyOn1M-",
        "outputId": "a4fcfbbc-f412-46fe-91fd-3065692cc7b9"
      },
      "outputs": [
        {
          "output_type": "execute_result",
          "data": {
            "text/plain": [
              "\"import tensorflow as tf\\nimport numpy as np \\n\\nX_train = np.array([1, 2, 3])\\ny_train = np.array([1, 2, 3])\\n\\n#신경망 모델 만들기 \\nmodel = tf.keras.models.Sequential()\\n\\n#완전 연결층을 추가 \\nmodel.add(tf.keras.layers.Dense(1))\\n\\n#옵티마이저와 손실함수를 지정 \\nmodel.compile(optimizer='sgd', loss='mse')\\n\\n#훈련 데이터를 사용하여 에포크 횟수만큼 훈련합니다. \\nmodel.fit(X_train, y_train, epochs=10)\""
            ],
            "application/vnd.google.colaboratory.intrinsic+json": {
              "type": "string"
            }
          },
          "metadata": {},
          "execution_count": 108
        }
      ],
      "source": [
        "\"\"\"import tensorflow as tf\n",
        "import numpy as np\n",
        "\n",
        "X_train = np.array([1, 2, 3])\n",
        "y_train = np.array([1, 2, 3])\n",
        "\n",
        "#신경망 모델 만들기\n",
        "model = tf.keras.models.Sequential()\n",
        "\n",
        "#완전 연결층을 추가\n",
        "model.add(tf.keras.layers.Dense(1))\n",
        "\n",
        "#옵티마이저와 손실함수를 지정\n",
        "model.compile(optimizer='sgd', loss='mse')\n",
        "\n",
        "#훈련 데이터를 사용하여 에포크 횟수만큼 훈련합니다.\n",
        "model.fit(X_train, y_train, epochs=10)\"\"\""
      ]
    },
    {
      "cell_type": "markdown",
      "source": [
        "#Sequential class\n",
        "1. sequential 클래스 객체 생성\n",
        "2. add() 매서드 생성"
      ],
      "metadata": {
        "id": "w48hWHWRtRVD"
      }
    },
    {
      "cell_type": "code",
      "source": [
        "\"\"\"import numpy as np\n",
        "import tensorflow as tf\n",
        "from tensorflow.keras.datasets import fashion_mnist\n",
        "from tensorflow.keras.models import Sequential\n",
        "from tensorflow.keras.layers import Dense, Flatten, Dropout\n",
        "from tensorflow.keras.utils import to_categorical\n",
        "import matplotlib.pyplot as plt\n",
        "\n",
        "# Load the Fashion MNIST dataset\n",
        "(X_train, y_train), (X_test, y_test) = fashion_mnist.load_data()\n",
        "\n",
        "# Normalize the pixel values to range [0, 1]\n",
        "X_train = X_train.astype('float32') / 255.0\n",
        "X_test = X_test.astype('float32') / 255.0\n",
        "\n",
        "# Convert the labels to one-hot encoded vectors\n",
        "y_train = to_categorical(y_train, num_classes=10)\n",
        "y_test = to_categorical(y_test, num_classes=10)\n",
        "\n",
        "# Build the neural network model\n",
        "model = Sequential()\n",
        "model.add(Flatten(input_shape=(28, 28)))  # Flatten the 28x28 input images into a 1D array\n",
        "model.add(Dense(128, activation='relu'))  # Fully connected layer with 128 units and ReLU activation\n",
        "model.add(Dropout(0.2))  # Dropout layer to prevent overfitting\n",
        "model.add(Dense(10, activation='softmax'))  # Output layer with 10 units for each class and softmax activation\n",
        "\n",
        "# Compile the model\n",
        "model.compile(optimizer='adam', loss='categorical_crossentropy', metrics=['accuracy'])\n",
        "\n",
        "# Train the model\n",
        "epochs = 10\n",
        "batch_size = 32\n",
        "history = model.fit(X_train, y_train, epochs=epochs, batch_size=batch_size, validation_split=0.1)\n",
        "\n",
        "# Evaluate the model on the test set\n",
        "test_loss, test_accuracy = model.evaluate(X_test, y_test)\n",
        "print(f\"Test accuracy: {test_accuracy:.4f}\")\n",
        "\n",
        "# Plot the training and validation accuracy over epochs\n",
        "plt.plot(history.history['accuracy'], label='Training Accuracy')\n",
        "plt.plot(history.history['val_accuracy'], label='Validation Accuracy')\n",
        "plt.xlabel('Epoch')\n",
        "plt.ylabel('Accuracy')\n",
        "plt.legend()\n",
        "plt.show()\"\"\""
      ],
      "metadata": {
        "colab": {
          "base_uri": "https://localhost:8080/",
          "height": 127
        },
        "id": "zuwYA7xvw1jU",
        "outputId": "31c1858c-547a-4f53-ed18-79aa8c197c2e"
      },
      "execution_count": 109,
      "outputs": [
        {
          "output_type": "execute_result",
          "data": {
            "text/plain": [
              "'import numpy as np\\nimport tensorflow as tf\\nfrom tensorflow.keras.datasets import fashion_mnist\\nfrom tensorflow.keras.models import Sequential\\nfrom tensorflow.keras.layers import Dense, Flatten, Dropout\\nfrom tensorflow.keras.utils import to_categorical\\nimport matplotlib.pyplot as plt\\n\\n# Load the Fashion MNIST dataset\\n(X_train, y_train), (X_test, y_test) = fashion_mnist.load_data()\\n\\n# Normalize the pixel values to range [0, 1]\\nX_train = X_train.astype(\\'float32\\') / 255.0\\nX_test = X_test.astype(\\'float32\\') / 255.0\\n\\n# Convert the labels to one-hot encoded vectors\\ny_train = to_categorical(y_train, num_classes=10)\\ny_test = to_categorical(y_test, num_classes=10)\\n\\n# Build the neural network model\\nmodel = Sequential()\\nmodel.add(Flatten(input_shape=(28, 28)))  # Flatten the 28x28 input images into a 1D array\\nmodel.add(Dense(128, activation=\\'relu\\'))  # Fully connected layer with 128 units and ReLU activation\\nmodel.add(Dropout(0.2))  # Dropout layer to prevent overfitting\\nmodel.add(Dense(10, activation=\\'softmax\\'))  # Output layer with 10 units for each class and softmax activation\\n\\n# Compile the model\\nmodel.compile(optimizer=\\'adam\\', loss=\\'categorical_crossentropy\\', metrics=[\\'accuracy\\'])\\n\\n# Train the model\\nepochs = 10\\nbatch_size = 32\\nhistory = model.fit(X_train, y_train, epochs=epochs, batch_size=batch_size, validation_split=0.1)\\n\\n# Evaluate the model on the test set\\ntest_loss, test_accuracy = model.evaluate(X_test, y_test)\\nprint(f\"Test accuracy: {test_accuracy:.4f}\")\\n\\n# Plot the training and validation accuracy over epochs\\nplt.plot(history.history[\\'accuracy\\'], label=\\'Training Accuracy\\')\\nplt.plot(history.history[\\'val_accuracy\\'], label=\\'Validation Accuracy\\')\\nplt.xlabel(\\'Epoch\\')\\nplt.ylabel(\\'Accuracy\\')\\nplt.legend()\\nplt.show()'"
            ],
            "application/vnd.google.colaboratory.intrinsic+json": {
              "type": "string"
            }
          },
          "metadata": {},
          "execution_count": 109
        }
      ]
    },
    {
      "cell_type": "code",
      "source": [
        "#fashion_mnist.load_data() 함수를 사용하면 데이터셋이 자동으로 훈련 세트와 테스트 세트로 나뉘어져서, 위에서 언급한 X_train, y_train, X_test, y_test 네 가지 변수를 튜플 형태로 반환합니다.\n",
        "\n",
        "import tensorflow as tf\n",
        "!pip install --upgrade tensorflow\n",
        "\n",
        "(X_train_all, y_train_all), (X_test_all, y_test_all) = tf.keras.datasets.fashion_mnist.load_data()\n",
        "print(X_train_all.shape, y_train_all.shape)"
      ],
      "metadata": {
        "colab": {
          "base_uri": "https://localhost:8080/"
        },
        "id": "eVnyjWgQsQ0n",
        "outputId": "4933714d-5853-494b-c769-b5876645b079"
      },
      "execution_count": 110,
      "outputs": [
        {
          "output_type": "stream",
          "name": "stdout",
          "text": [
            "Requirement already satisfied: tensorflow in /usr/local/lib/python3.10/dist-packages (2.13.0)\n",
            "Requirement already satisfied: absl-py>=1.0.0 in /usr/local/lib/python3.10/dist-packages (from tensorflow) (1.4.0)\n",
            "Requirement already satisfied: astunparse>=1.6.0 in /usr/local/lib/python3.10/dist-packages (from tensorflow) (1.6.3)\n",
            "Requirement already satisfied: flatbuffers>=23.1.21 in /usr/local/lib/python3.10/dist-packages (from tensorflow) (23.5.26)\n",
            "Requirement already satisfied: gast<=0.4.0,>=0.2.1 in /usr/local/lib/python3.10/dist-packages (from tensorflow) (0.4.0)\n",
            "Requirement already satisfied: google-pasta>=0.1.1 in /usr/local/lib/python3.10/dist-packages (from tensorflow) (0.2.0)\n",
            "Requirement already satisfied: grpcio<2.0,>=1.24.3 in /usr/local/lib/python3.10/dist-packages (from tensorflow) (1.56.2)\n",
            "Requirement already satisfied: h5py>=2.9.0 in /usr/local/lib/python3.10/dist-packages (from tensorflow) (3.8.0)\n",
            "Requirement already satisfied: keras<2.14,>=2.13.1 in /usr/local/lib/python3.10/dist-packages (from tensorflow) (2.13.1)\n",
            "Requirement already satisfied: libclang>=13.0.0 in /usr/local/lib/python3.10/dist-packages (from tensorflow) (16.0.6)\n",
            "Requirement already satisfied: numpy<=1.24.3,>=1.22 in /usr/local/lib/python3.10/dist-packages (from tensorflow) (1.22.4)\n",
            "Requirement already satisfied: opt-einsum>=2.3.2 in /usr/local/lib/python3.10/dist-packages (from tensorflow) (3.3.0)\n",
            "Requirement already satisfied: packaging in /usr/local/lib/python3.10/dist-packages (from tensorflow) (23.1)\n",
            "Requirement already satisfied: protobuf!=4.21.0,!=4.21.1,!=4.21.2,!=4.21.3,!=4.21.4,!=4.21.5,<5.0.0dev,>=3.20.3 in /usr/local/lib/python3.10/dist-packages (from tensorflow) (3.20.3)\n",
            "Requirement already satisfied: setuptools in /usr/local/lib/python3.10/dist-packages (from tensorflow) (67.7.2)\n",
            "Requirement already satisfied: six>=1.12.0 in /usr/local/lib/python3.10/dist-packages (from tensorflow) (1.16.0)\n",
            "Requirement already satisfied: tensorboard<2.14,>=2.13 in /usr/local/lib/python3.10/dist-packages (from tensorflow) (2.13.0)\n",
            "Requirement already satisfied: tensorflow-estimator<2.14,>=2.13.0 in /usr/local/lib/python3.10/dist-packages (from tensorflow) (2.13.0)\n",
            "Requirement already satisfied: termcolor>=1.1.0 in /usr/local/lib/python3.10/dist-packages (from tensorflow) (2.3.0)\n",
            "Requirement already satisfied: typing-extensions<4.6.0,>=3.6.6 in /usr/local/lib/python3.10/dist-packages (from tensorflow) (4.5.0)\n",
            "Requirement already satisfied: wrapt>=1.11.0 in /usr/local/lib/python3.10/dist-packages (from tensorflow) (1.14.1)\n",
            "Requirement already satisfied: tensorflow-io-gcs-filesystem>=0.23.1 in /usr/local/lib/python3.10/dist-packages (from tensorflow) (0.32.0)\n",
            "Requirement already satisfied: wheel<1.0,>=0.23.0 in /usr/local/lib/python3.10/dist-packages (from astunparse>=1.6.0->tensorflow) (0.41.0)\n",
            "Requirement already satisfied: google-auth<3,>=1.6.3 in /usr/local/lib/python3.10/dist-packages (from tensorboard<2.14,>=2.13->tensorflow) (2.17.3)\n",
            "Requirement already satisfied: google-auth-oauthlib<1.1,>=0.5 in /usr/local/lib/python3.10/dist-packages (from tensorboard<2.14,>=2.13->tensorflow) (1.0.0)\n",
            "Requirement already satisfied: markdown>=2.6.8 in /usr/local/lib/python3.10/dist-packages (from tensorboard<2.14,>=2.13->tensorflow) (3.4.4)\n",
            "Requirement already satisfied: requests<3,>=2.21.0 in /usr/local/lib/python3.10/dist-packages (from tensorboard<2.14,>=2.13->tensorflow) (2.27.1)\n",
            "Requirement already satisfied: tensorboard-data-server<0.8.0,>=0.7.0 in /usr/local/lib/python3.10/dist-packages (from tensorboard<2.14,>=2.13->tensorflow) (0.7.1)\n",
            "Requirement already satisfied: werkzeug>=1.0.1 in /usr/local/lib/python3.10/dist-packages (from tensorboard<2.14,>=2.13->tensorflow) (2.3.6)\n",
            "Requirement already satisfied: cachetools<6.0,>=2.0.0 in /usr/local/lib/python3.10/dist-packages (from google-auth<3,>=1.6.3->tensorboard<2.14,>=2.13->tensorflow) (5.3.1)\n",
            "Requirement already satisfied: pyasn1-modules>=0.2.1 in /usr/local/lib/python3.10/dist-packages (from google-auth<3,>=1.6.3->tensorboard<2.14,>=2.13->tensorflow) (0.3.0)\n",
            "Requirement already satisfied: rsa<5,>=3.1.4 in /usr/local/lib/python3.10/dist-packages (from google-auth<3,>=1.6.3->tensorboard<2.14,>=2.13->tensorflow) (4.9)\n",
            "Requirement already satisfied: requests-oauthlib>=0.7.0 in /usr/local/lib/python3.10/dist-packages (from google-auth-oauthlib<1.1,>=0.5->tensorboard<2.14,>=2.13->tensorflow) (1.3.1)\n",
            "Requirement already satisfied: urllib3<1.27,>=1.21.1 in /usr/local/lib/python3.10/dist-packages (from requests<3,>=2.21.0->tensorboard<2.14,>=2.13->tensorflow) (1.26.16)\n",
            "Requirement already satisfied: certifi>=2017.4.17 in /usr/local/lib/python3.10/dist-packages (from requests<3,>=2.21.0->tensorboard<2.14,>=2.13->tensorflow) (2023.7.22)\n",
            "Requirement already satisfied: charset-normalizer~=2.0.0 in /usr/local/lib/python3.10/dist-packages (from requests<3,>=2.21.0->tensorboard<2.14,>=2.13->tensorflow) (2.0.12)\n",
            "Requirement already satisfied: idna<4,>=2.5 in /usr/local/lib/python3.10/dist-packages (from requests<3,>=2.21.0->tensorboard<2.14,>=2.13->tensorflow) (3.4)\n",
            "Requirement already satisfied: MarkupSafe>=2.1.1 in /usr/local/lib/python3.10/dist-packages (from werkzeug>=1.0.1->tensorboard<2.14,>=2.13->tensorflow) (2.1.3)\n",
            "Requirement already satisfied: pyasn1<0.6.0,>=0.4.6 in /usr/local/lib/python3.10/dist-packages (from pyasn1-modules>=0.2.1->google-auth<3,>=1.6.3->tensorboard<2.14,>=2.13->tensorflow) (0.5.0)\n",
            "Requirement already satisfied: oauthlib>=3.0.0 in /usr/local/lib/python3.10/dist-packages (from requests-oauthlib>=0.7.0->google-auth-oauthlib<1.1,>=0.5->tensorboard<2.14,>=2.13->tensorflow) (3.2.2)\n",
            "(60000, 28, 28) (60000,)\n"
          ]
        }
      ]
    },
    {
      "cell_type": "code",
      "source": [
        "#imshow()함수로 첫번째 샘플 이미지 확인하기, 0-255, 첫번째 샘플은 신발\n",
        "\n",
        "import matplotlib.pyplot as plt\n",
        "plt.imshow(X_train_all[0])\n",
        "plt.show()"
      ],
      "metadata": {
        "colab": {
          "base_uri": "https://localhost:8080/",
          "height": 430
        },
        "id": "rqCsuNnjwN6X",
        "outputId": "722ce147-168d-45d0-be8e-fd42e27db593"
      },
      "execution_count": 111,
      "outputs": [
        {
          "output_type": "display_data",
          "data": {
            "text/plain": [
              "<Figure size 640x480 with 1 Axes>"
            ],
            "image/png": "[encoded data removed]"
          },
          "metadata": {}
        }
      ]
    },
    {
      "cell_type": "code",
      "source": [
        "# 타깃 데이터 준비하기\n",
        "print(y_train_all[0])\n",
        "\n",
        "# 클래스 이름 지정해주기\n",
        "class_name = ['티셔츠', '바지', '스웨터', '드레스', '코트', '샌들', '셔츠', '스니커즈', '가방', '앵클부츠']\n",
        "for i in range(10):\n",
        "  print(class_name[y_train_all[i]])"
      ],
      "metadata": {
        "colab": {
          "base_uri": "https://localhost:8080/"
        },
        "id": "eq2Om-lhzNOc",
        "outputId": "7e3c3586-ed73-428d-f68e-d64d4188a0c7"
      },
      "execution_count": 112,
      "outputs": [
        {
          "output_type": "stream",
          "name": "stdout",
          "text": [
            "9\n",
            "앵클부츠\n",
            "티셔츠\n",
            "티셔츠\n",
            "드레스\n",
            "티셔츠\n",
            "스웨터\n",
            "스니커즈\n",
            "스웨터\n",
            "샌들\n",
            "샌들\n"
          ]
        }
      ]
    },
    {
      "cell_type": "code",
      "source": [
        "# 훈련 세트의 타깃값이 고르게 분포되어 있는지 확인 : bincount() 함수 사용\n",
        "\n",
        "import numpy as np\n",
        "np.bincount(y_train_all)"
      ],
      "metadata": {
        "colab": {
          "base_uri": "https://localhost:8080/"
        },
        "id": "3SXUD-Qmzg0o",
        "outputId": "3979e8b2-845e-4f5f-88f9-5191095c635d"
      },
      "execution_count": 113,
      "outputs": [
        {
          "output_type": "execute_result",
          "data": {
            "text/plain": [
              "array([6000, 6000, 6000, 6000, 6000, 6000, 6000, 6000, 6000, 6000])"
            ]
          },
          "metadata": {},
          "execution_count": 113
        }
      ]
    },
    {
      "cell_type": "code",
      "source": [
        "# 훈련 세트와 검증 세트 나누기\n",
        "\n",
        "from sklearn.model_selection import train_test_split\n",
        "x_train, x_test, y_train, y_test = train_test_split(X_train_all, y_train_all, test_size=0.2, random_state=42)\n",
        "\n",
        "\n",
        "print(np.bincount(y_train))\n",
        "print(np.bincount(y_test))"
      ],
      "metadata": {
        "colab": {
          "base_uri": "https://localhost:8080/"
        },
        "id": "xPuvRvF30hEz",
        "outputId": "f9525636-d7fc-4532-951a-34e681a1725f"
      },
      "execution_count": 114,
      "outputs": [
        {
          "output_type": "stream",
          "name": "stdout",
          "text": [
            "[4798 4781 4795 4816 4798 4789 4782 4841 4803 4797]\n",
            "[1202 1219 1205 1184 1202 1211 1218 1159 1197 1203]\n"
          ]
        }
      ]
    },
    {
      "cell_type": "code",
      "source": [
        "print(x_train.shape)\n",
        "print(x_test.shape)\n",
        "print(y_train.shape)\n",
        "print(y_test.shape)"
      ],
      "metadata": {
        "colab": {
          "base_uri": "https://localhost:8080/"
        },
        "id": "_dihpKvxB62N",
        "outputId": "041e6177-234a-46e5-aae0-4851accf7ce9"
      },
      "execution_count": 115,
      "outputs": [
        {
          "output_type": "stream",
          "name": "stdout",
          "text": [
            "(48000, 28, 28)\n",
            "(12000, 28, 28)\n",
            "(48000,)\n",
            "(12000,)\n"
          ]
        }
      ]
    },
    {
      "cell_type": "code",
      "source": [
        "# 훈련데이터 : 넘파이 0-255값 -> 0-1 사이의 값으로 표준화 => 모델 학습 성능 향상 , y는 0-9값이므로 따로 표준화 할 필요 없음\n",
        "\n",
        "x_train = x_train / 255\n",
        "x_test = x_test / 255"
      ],
      "metadata": {
        "id": "ybTmSznU0_rZ"
      },
      "execution_count": 116,
      "outputs": []
    },
    {
      "cell_type": "code",
      "source": [
        "# 2차원 이미지를 1차원의 샘플로 변환 => 딥러닝 입력으로 사용하기 위함\n",
        "\n",
        "x_train = x_train.reshape(-1, 28*28)\n",
        "x_test = x_test.reshape(-1, 28*28)\n",
        "\n",
        "# (48000, 28, 28)이 아닌 1차원으로 변환된 것을 확인할 수 있음.\n",
        "print(x_train.shape, x_test.shape)"
      ],
      "metadata": {
        "colab": {
          "base_uri": "https://localhost:8080/"
        },
        "id": "y1tUUbRD2lUg",
        "outputId": "a3f81503-bcb8-43e7-8dce-941a9c4beaa8"
      },
      "execution_count": 117,
      "outputs": [
        {
          "output_type": "stream",
          "name": "stdout",
          "text": [
            "(48000, 784) (12000, 784)\n"
          ]
        }
      ]
    },
    {
      "cell_type": "code",
      "source": [
        "# 타깃을 원핫 인코딩으로 변환하기 = 타깃의 정수값에 해당하는 원소는 1, 나머지 원소는 0 -> to_categorical함수 사용\n",
        "\n",
        "y_trained_encoded = tf.keras.utils.to_categorical(y_train)\n",
        "y_test_encoded = tf.keras.utils.to_categorical(y_test)\n",
        "\n",
        "print(y_trained_encoded.shape, y_test_encoded.shape)\n",
        "print(y_train[0], y_trained_encoded[0])"
      ],
      "metadata": {
        "colab": {
          "base_uri": "https://localhost:8080/"
        },
        "id": "trwwFdwW3wx1",
        "outputId": "23837e02-2314-4679-cc42-f74af1349644"
      },
      "execution_count": 118,
      "outputs": [
        {
          "output_type": "stream",
          "name": "stdout",
          "text": [
            "(48000, 10) (12000, 10)\n",
            "7 [0. 0. 0. 0. 0. 0. 0. 1. 0. 0.]\n"
          ]
        }
      ]
    },
    {
      "cell_type": "code",
      "source": [
        "# 모델 생성하기\n",
        "\n",
        "import tensorflow as tf\n",
        "\n",
        "from tensorflow.keras import Sequential\n",
        "from tensorflow.keras.layers import Dense\n",
        "\n",
        "model = Sequential()"
      ],
      "metadata": {
        "id": "xWsLbmE34nc-"
      },
      "execution_count": 119,
      "outputs": []
    },
    {
      "cell_type": "code",
      "source": [
        "# 은닉층 생성하기\n",
        "model.add(Dense(100, activation='sigmoid', input_shape=(784,)))\n",
        "\n",
        "# 출력층 생성하기 -> 은닉층, 출력층까지 총 110개의 층 생성;\n",
        "model.add(Dense(10, activation='softmax'))"
      ],
      "metadata": {
        "id": "kjpSifN36UwV"
      },
      "execution_count": 120,
      "outputs": []
    },
    {
      "cell_type": "code",
      "source": [
        "model.summary()"
      ],
      "metadata": {
        "colab": {
          "base_uri": "https://localhost:8080/"
        },
        "id": "fAjf4TdSAlh4",
        "outputId": "515992c5-77f1-4761-ef3e-44548744eb4e"
      },
      "execution_count": 121,
      "outputs": [
        {
          "output_type": "stream",
          "name": "stdout",
          "text": [
            "Model: \"sequential_9\"\n",
            "_________________________________________________________________\n",
            " Layer (type)                Output Shape              Param #   \n",
            "=================================================================\n",
            " dense_13 (Dense)            (None, 100)               78500     \n",
            "                                                                 \n",
            " dense_14 (Dense)            (None, 10)                1010      \n",
            "                                                                 \n",
            "=================================================================\n",
            "Total params: 79,510\n",
            "Trainable params: 79,510\n",
            "Non-trainable params: 0\n",
            "_________________________________________________________________\n"
          ]
        }
      ]
    },
    {
      "cell_type": "code",
      "source": [
        "# 최적화 알고리즘과 손실함수 지정하기, metrics: 모델 평가 지표\n",
        "model.compile(optimizer='sgd', loss='categorical_crossentropy', metrics=['accuracy'])"
      ],
      "metadata": {
        "id": "jUNOhZ_E-pKp"
      },
      "execution_count": 122,
      "outputs": []
    },
    {
      "cell_type": "code",
      "source": [
        "# histroy 객체 만들어주기\n",
        "history = model.fit(x_train, y_trained_encoded, epochs=10, validation_data = (x_test, y_test_encoded))"
      ],
      "metadata": {
        "colab": {
          "base_uri": "https://localhost:8080/"
        },
        "id": "6qE_SGwk_bHX",
        "outputId": "cd2e32e1-cd3f-433b-e7ad-50dc64c51604"
      },
      "execution_count": 123,
      "outputs": [
        {
          "output_type": "stream",
          "name": "stdout",
          "text": [
            "Epoch 1/10\n",
            "1500/1500 [==============================] - 9s 5ms/step - loss: 1.3772 - accuracy: 0.6522 - val_loss: 0.9692 - val_accuracy: 0.7279\n",
            "Epoch 2/10\n",
            "1500/1500 [==============================] - 8s 6ms/step - loss: 0.8367 - accuracy: 0.7457 - val_loss: 0.7619 - val_accuracy: 0.7477\n",
            "Epoch 3/10\n",
            "1500/1500 [==============================] - 9s 6ms/step - loss: 0.7049 - accuracy: 0.7655 - val_loss: 0.6769 - val_accuracy: 0.7712\n",
            "Epoch 4/10\n",
            "1500/1500 [==============================] - 4s 3ms/step - loss: 0.6408 - accuracy: 0.7807 - val_loss: 0.6272 - val_accuracy: 0.7822\n",
            "Epoch 5/10\n",
            "1500/1500 [==============================] - 4s 3ms/step - loss: 0.5994 - accuracy: 0.7943 - val_loss: 0.5940 - val_accuracy: 0.7962\n",
            "Epoch 6/10\n",
            "1500/1500 [==============================] - 6s 4ms/step - loss: 0.5698 - accuracy: 0.8042 - val_loss: 0.5662 - val_accuracy: 0.8025\n",
            "Epoch 7/10\n",
            "1500/1500 [==============================] - 4s 3ms/step - loss: 0.5471 - accuracy: 0.8102 - val_loss: 0.5466 - val_accuracy: 0.8093\n",
            "Epoch 8/10\n",
            "1500/1500 [==============================] - 4s 3ms/step - loss: 0.5293 - accuracy: 0.8170 - val_loss: 0.5313 - val_accuracy: 0.8117\n",
            "Epoch 9/10\n",
            "1500/1500 [==============================] - 6s 4ms/step - loss: 0.5148 - accuracy: 0.8221 - val_loss: 0.5185 - val_accuracy: 0.8197\n",
            "Epoch 10/10\n",
            "1500/1500 [==============================] - 5s 3ms/step - loss: 0.5031 - accuracy: 0.8251 - val_loss: 0.5081 - val_accuracy: 0.8206\n"
          ]
        }
      ]
    },
    {
      "cell_type": "markdown",
      "source": [
        "history 딕셔너리는 TensorFlow와 Keras에서 모델을 훈련한 결과를 담고 있는 딕셔너리입니다. 모델을 훈련할 때, model.fit() 메서드를 호출하면 훈련 과정에서 발생하는 다양한 정보들이 history 딕셔너리에 저장됩니다.\n",
        "\n",
        "history 딕셔너리에는 주로 다음과 같은 키(Key)들이 포함됩니다:\n",
        "\n",
        "- loss: 각 에포크(epoch)별 훈련 손실(loss) 값의 리스트.\n",
        "- accuracy (또는 사용자가 지정한 다른 평가 지표): 각 에포크별 훈련 정확도(또는 사용자가 지정한 다른 평가 지표) 값의 리스트.\n",
        "- val_loss: 각 에포크별 검증 손실(validation loss) 값의 리스트. 모델이 검증 데이터를 사용하여 훈련할 때, 검증 데이터의 손실 값이 기록됩니다.\n",
        "- val_accuracy (또는 사용자가 지정한 다른 검증 평가 지표): 각 에포크별 검증 정확도(또는 사용자가 지정한 다른 검증 평가 지표) 값의 리스트. 모델이 검증 데이터를 사용하여 훈련할 때, 검증 데이터의 정확도 값이 기록됩니다."
      ],
      "metadata": {
        "id": "CgXfvEvQBOCh"
      }
    },
    {
      "cell_type": "code",
      "source": [
        "print(history.history.keys())"
      ],
      "metadata": {
        "colab": {
          "base_uri": "https://localhost:8080/"
        },
        "id": "GQqWaTUXBsHu",
        "outputId": "219b0717-6ed2-4956-8e0b-20767d6986d8"
      },
      "execution_count": 125,
      "outputs": [
        {
          "output_type": "stream",
          "name": "stdout",
          "text": [
            "dict_keys(['loss', 'accuracy', 'val_loss', 'val_accuracy'])\n"
          ]
        }
      ]
    },
    {
      "cell_type": "code",
      "source": [
        "# matplotlib으로 그래프 그리기\n",
        "\n",
        "plt.plot(history.history['loss'])\n",
        "plt.plot(history.history['val_loss'])\n",
        "\n",
        "plt.ylabel('loss')\n",
        "plt.xlabel('epoch')\n",
        "# 범례를 추가하는 plt.legend\n",
        "plt.legend(['train_loss', 'val_loss'])\n",
        "\n",
        "plt.show()"
      ],
      "metadata": {
        "colab": {
          "base_uri": "https://localhost:8080/",
          "height": 449
        },
        "id": "a89laFlRCNQV",
        "outputId": "bcd7c39a-0666-48c2-e559-d0b680166d8d"
      },
      "execution_count": 126,
      "outputs": [
        {
          "output_type": "display_data",
          "data": {
            "text/plain": [
              "<Figure size 640x480 with 1 Axes>"
            ],
            "image/png": "[encoded data removed]"
          },
          "metadata": {}
        }
      ]
    },
    {
      "cell_type": "code",
      "source": [
        "# matplotlib으로 그래프 그리기\n",
        "\n",
        "plt.plot(history.history['accuracy'])\n",
        "plt.plot(history.history['val_accuracy'])\n",
        "\n",
        "plt.ylabel('accuracy')\n",
        "plt.xlabel('epoch')\n",
        "# 범례를 추가하는 plt.legend\n",
        "plt.legend(['train_accuracy', 'val_accuracy'])\n",
        "\n",
        "plt.show()"
      ],
      "metadata": {
        "colab": {
          "base_uri": "https://localhost:8080/",
          "height": 449
        },
        "id": "dQZUnERhEA5S",
        "outputId": "ce6a868e-0dfd-4529-e60d-2f7e260fe9cf"
      },
      "execution_count": 127,
      "outputs": [
        {
          "output_type": "display_data",
          "data": {
            "text/plain": [
              "<Figure size 640x480 with 1 Axes>"
            ],
            "image/png": "[encoded data removed]"
          },
          "metadata": {}
        }
      ]
    },
    {
      "cell_type": "code",
      "source": [
        "loss, accuracy = model.evaluate(x_test, y_test_encoded, verbose=1)\n",
        "print(loss, accuracy)"
      ],
      "metadata": {
        "colab": {
          "base_uri": "https://localhost:8080/"
        },
        "id": "JDt3OlKqEN1m",
        "outputId": "c12ae584-37b0-4e97-937e-c4fe34f239a1"
      },
      "execution_count": 128,
      "outputs": [
        {
          "output_type": "stream",
          "name": "stdout",
          "text": [
            "375/375 [==============================] - 2s 5ms/step - loss: 0.5081 - accuracy: 0.8206\n",
            "0.5080763101577759 0.8205833435058594\n"
          ]
        }
      ]
    }
  ]
}