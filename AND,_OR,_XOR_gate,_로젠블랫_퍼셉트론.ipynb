{
  "nbformat": 4,
  "nbformat_minor": 0,
  "metadata": {
    "colab": {
      "provenance": [],
      "authorship_tag": "ABX9TyNn8Aa+8HXXNgqf4gVqOl2o",
      "include_colab_link": true
    },
    "kernelspec": {
      "name": "python3",
      "display_name": "Python 3"
    },
    "language_info": {
      "name": "python"
    }
  },
  "cells": [
    {
      "cell_type": "markdown",
      "metadata": {
        "id": "view-in-github",
        "colab_type": "text"
      },
      "source": [
        "<a href=\"https://colab.research.google.com/github/sun-in-universe/blue_dot/blob/main/AND%2C_OR%2C_XOR_gate%2C_%EB%A1%9C%EC%A0%A0%EB%B8%94%EB%9E%AB_%ED%8D%BC%EC%85%89%ED%8A%B8%EB%A1%A0.ipynb\" target=\"_parent\"><img src=\"https://colab.research.google.com/assets/colab-badge.svg\" alt=\"Open In Colab\"/></a>"
      ]
    },
    {
      "cell_type": "code",
      "execution_count": 1,
      "metadata": {
        "id": "LgmPrKvZwTyg"
      },
      "outputs": [],
      "source": [
        "import numpy as np"
      ]
    },
    {
      "cell_type": "code",
      "source": [
        "# AND gate\n",
        "\n",
        "def AND(x1, x2):\n",
        "  w1, w2, theta = 0.5, 0.5, 0.7 # w1, w2= 가중치, theta = 임계값\n",
        "  value = x1 * w1 + x2 * w2\n",
        "  if value <= theta:\n",
        "    return 0\n",
        "  elif value >= theta:\n",
        "    return 1\n",
        "\n",
        "# AND gate 결과보기\n",
        "X = [[0, 0], [0, 1], [1, 0], [1, 1]]\n",
        "for i in X:\n",
        "  print(\"입력 데이터=\",i, \"결과는=\", AND(i[0], i[1]))"
      ],
      "metadata": {
        "colab": {
          "base_uri": "https://localhost:8080/"
        },
        "id": "Rbb4_yRfwY1J",
        "outputId": "985b80cc-9eac-479e-a92a-6a4166c5ae96"
      },
      "execution_count": 2,
      "outputs": [
        {
          "output_type": "stream",
          "name": "stdout",
          "text": [
            "입력 데이터= [0, 0] 결과는= 0\n",
            "입력 데이터= [0, 1] 결과는= 0\n",
            "입력 데이터= [1, 0] 결과는= 0\n",
            "입력 데이터= [1, 1] 결과는= 1\n"
          ]
        }
      ]
    },
    {
      "cell_type": "code",
      "source": [
        "# OR gate\n",
        "\n",
        "def OR(x1, x2):\n",
        "  w1, w2, theta = 0.5, 0.5, 0.5 # w1, w2= 가중치, theta = 임계값\n",
        "  value = x1 * w1 + x2 * w2\n",
        "  if value < theta:\n",
        "    return 0\n",
        "  elif value >= theta:\n",
        "    return 1\n",
        "\n",
        "# OR gate 결과보기\n",
        "X = [[0, 0], [0, 1], [1, 0], [1, 1]]\n",
        "for i in X:\n",
        "  print(\"입력 데이터=\",i, \"결과는=\", OR(i[0], i[1]))"
      ],
      "metadata": {
        "colab": {
          "base_uri": "https://localhost:8080/"
        },
        "id": "0fBZT4ybxnzQ",
        "outputId": "a5bf5990-ca93-4962-b2c4-be6c0a87fe0d"
      },
      "execution_count": 3,
      "outputs": [
        {
          "output_type": "stream",
          "name": "stdout",
          "text": [
            "입력 데이터= [0, 0] 결과는= 0\n",
            "입력 데이터= [0, 1] 결과는= 1\n",
            "입력 데이터= [1, 0] 결과는= 1\n",
            "입력 데이터= [1, 1] 결과는= 1\n"
          ]
        }
      ]
    },
    {
      "cell_type": "markdown",
      "source": [
        "XOR 게이트 만들기 및 다층 퍼셉트론 만들기의 필요성"
      ],
      "metadata": {
        "id": "Qoe9bt9Xyxmo"
      }
    },
    {
      "cell_type": "code",
      "source": [
        "# NAND gate\n",
        "\n",
        "def NAND(x1, x2):\n",
        "  w1, w2, theta = 0.5, 0.5, 0.7 # w1, w2= 가중치, theta = 임계값\n",
        "  value = x1 * w1 + x2 * w2\n",
        "  if value <= theta:\n",
        "    return 1\n",
        "  elif value >= theta:\n",
        "    return 0\n",
        "\n",
        "# AND gate 결과보기\n",
        "X = [[0, 0], [0, 1], [1, 0], [1, 1]]\n",
        "for i in X:\n",
        "  print(\"입력 데이터=\",i, \"결과는=\", NAND(i[0], i[1]))"
      ],
      "metadata": {
        "colab": {
          "base_uri": "https://localhost:8080/"
        },
        "id": "uGD9fBsiytH3",
        "outputId": "17c327f8-406c-4b9c-f744-739c5d305c52"
      },
      "execution_count": 5,
      "outputs": [
        {
          "output_type": "stream",
          "name": "stdout",
          "text": [
            "입력 데이터= [0, 0] 결과는= 1\n",
            "입력 데이터= [0, 1] 결과는= 1\n",
            "입력 데이터= [1, 0] 결과는= 1\n",
            "입력 데이터= [1, 1] 결과는= 0\n"
          ]
        }
      ]
    },
    {
      "cell_type": "code",
      "source": [
        "# XOR gate\n",
        "\n",
        "def NAND(x1, x2):\n",
        "  value = AND(x1, x2)\n",
        "  if value == 1:\n",
        "    return 0\n",
        "  else:\n",
        "    return 1\n",
        "\n",
        "def OR(x1, x2):\n",
        "  w1, w2, theta = 0.5, 0.5, 0.5 # w1, w2= 가중치, theta = 임계값\n",
        "  value = x1 * w1 + x2 * w2\n",
        "  if value < theta:\n",
        "    return 0\n",
        "  elif value >= theta:\n",
        "    return 1\n",
        "\n",
        "def XOR(x1, x2):\n",
        "  return (NAND(x1, x2) and OR(x1, x2))\n",
        "\n",
        "# XOR gate 결과보기\n",
        "X = [[0, 0], [0, 1], [1, 0], [1, 1]]\n",
        "for i in X:\n",
        "  print(\"입력 데이터=\",i, \"결과는=\", XOR(i[0], i[1]))"
      ],
      "metadata": {
        "colab": {
          "base_uri": "https://localhost:8080/"
        },
        "id": "Y8Z9eioD0Rf3",
        "outputId": "9d63e63c-4b97-41a5-d160-55d38540f35d"
      },
      "execution_count": 7,
      "outputs": [
        {
          "output_type": "stream",
          "name": "stdout",
          "text": [
            "입력 데이터= [0, 0] 결과는= 0\n",
            "입력 데이터= [0, 1] 결과는= 1\n",
            "입력 데이터= [1, 0] 결과는= 1\n",
            "입력 데이터= [1, 1] 결과는= 0\n"
          ]
        }
      ]
    },
    {
      "cell_type": "code",
      "source": [
        "#Rosenblatt 퍼셉트론\n",
        "\n",
        "import numpy as np\n",
        "lr = 0.1 #lerarning rate 학습률\n",
        "bias = 1\n",
        "\n",
        "weights = [0.4, 0.1, -0.3]\n",
        "def Perceptron(input1, input2, output):\n",
        "  outputP = input1 * weights[0] + input2 * weights[1] + bias * weights[2]\n",
        "  if outputP > 0:\n",
        "    output = 1\n",
        "  else:\n",
        "    output = 0\n",
        "\n",
        "    error = output - outputP\n",
        "    weights[0] =+ error *input1 *lr\n",
        "    weights[1] =+ error *input2 *lr\n",
        "    weights[1] =+ error * bias *lr\n",
        "\n",
        "print(\"주어진 기울기와 절편은\")\n",
        "print(\"w1=\",weights[0], \"w2=\",weights[1], \"bias=\",weights[2])"
      ],
      "metadata": {
        "colab": {
          "base_uri": "https://localhost:8080/"
        },
        "id": "TRQgWikCPwHW",
        "outputId": "149b1dd4-d90f-41b8-cb6d-0693b88e50bf"
      },
      "execution_count": 14,
      "outputs": [
        {
          "output_type": "stream",
          "name": "stdout",
          "text": [
            "주어진 기울기와 절편은\n",
            "w1= 0.4 w2= 0.1 bias= -0.3\n"
          ]
        }
      ]
    },
    {
      "cell_type": "code",
      "source": [
        "#실제 학습 시키기(OR 게이트인 경우)\n",
        "\n",
        "for i in range(50):\n",
        "  Perceptron(1, 1, 1)\n",
        "  Perceptron(1, 0, 0)\n",
        "  Perceptron(0, 1, 0)\n",
        "  Perceptron(0, 0, 0)\n",
        "\n",
        "# 학습된 결과 확인해보기\n",
        "print(\"최종 기울기와 절편은\")\n",
        "print(\"w1=\",weights[0], \"w2=\",weights[1], \"bias=\",weights[2])"
      ],
      "metadata": {
        "colab": {
          "base_uri": "https://localhost:8080/"
        },
        "id": "aJXBr-doRzBX",
        "outputId": "1402e679-4a75-4014-e1a2-f4f5ea00a3f8"
      },
      "execution_count": 15,
      "outputs": [
        {
          "output_type": "stream",
          "name": "stdout",
          "text": [
            "최종 기울기와 절편은\n",
            "w1= 0.0 w2= 0.03 bias= -0.3\n"
          ]
        }
      ]
    }
  ]
}